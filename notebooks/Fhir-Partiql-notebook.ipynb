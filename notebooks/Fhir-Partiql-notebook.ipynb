{
 "cells": [
  {
   "cell_type": "markdown",
   "metadata": {},
   "source": [
    "# Querying FHIR Data With PartiQL Redshift"
   ]
  },
  {
   "cell_type": "markdown",
   "metadata": {},
   "source": [
    "This notebook demonstrates how to use PartiQL in Redshift to analyze FHIR data stored on S3.  We will also demonstrate the use of the open source schema induction tool (https://github.com/awslabs/amazon-redshif-json-schema-induction) to generate Create Table DDL for Redshift over the JSON data."
   ]
  },
  {
   "cell_type": "markdown",
   "metadata": {},
   "source": [
    "## Step 0: Initialization"
   ]
  },
  {
   "cell_type": "markdown",
   "metadata": {},
   "source": [
    "##### we will build and install the schema induction tool"
   ]
  },
  {
   "cell_type": "code",
   "execution_count": 1,
   "metadata": {},
   "outputs": [
    {
     "name": "stdout",
     "output_type": "stream",
     "text": [
      "Cloning into 'amazon-redshift-json-schema-induction'...\n",
      "remote: Enumerating objects: 103, done.\u001b[K\n",
      "remote: Counting objects: 100% (103/103), done.\u001b[K\n",
      "remote: Compressing objects: 100% (68/68), done.\u001b[K\n",
      "remote: Total 103 (delta 29), reused 90 (delta 22), pack-reused 0\u001b[K\n",
      "Receiving objects: 100% (103/103), 2.29 MiB | 17.73 MiB/s, done.\n",
      "Resolving deltas: 100% (29/29), done.\n"
     ]
    }
   ],
   "source": [
    "!git clone https://github.com/awslabs/amazon-redshift-json-schema-induction.git\n"
   ]
  },
  {
   "cell_type": "code",
   "execution_count": 9,
   "metadata": {},
   "outputs": [
    {
     "name": "stdout",
     "output_type": "stream",
     "text": [
      "  % Total    % Received % Xferd  Average Speed   Time    Time     Time  Current\n",
      "                                 Dload  Upload   Total   Spent    Left  Speed\n",
      "100 9283k  100 9283k    0     0  6402k      0  0:00:01  0:00:01 --:--:-- 6398k\n"
     ]
    }
   ],
   "source": [
    "!chmod a+x ./amazon-redshift-json-schema-induction/scripts/install_mvn.sh\n",
    "!sudo ./amazon-redshift-json-schema-induction/scripts/install_mvn.sh > install_maven.log"
   ]
  },
  {
   "cell_type": "code",
   "execution_count": 11,
   "metadata": {},
   "outputs": [],
   "source": [
    "# this command will take few min to build the schema induction tool\n",
    "!cd amazon-redshift-json-schema-induction && /opt/maven/bin/mvn package > build.log"
   ]
  },
  {
   "cell_type": "code",
   "execution_count": 12,
   "metadata": {},
   "outputs": [],
   "source": [
    "!cp amazon-redshift-json-schema-induction/schema-induction/target/*.jar /home/ec2-user/SageMaker"
   ]
  },
  {
   "cell_type": "markdown",
   "metadata": {},
   "source": [
    "## Step 1:  Download the FHIR data and store it in S3"
   ]
  },
  {
   "cell_type": "code",
   "execution_count": 13,
   "metadata": {},
   "outputs": [
    {
     "data": {
      "text/plain": [
       "'demo-partiql-zutfcihjex'"
      ]
     },
     "execution_count": 13,
     "metadata": {},
     "output_type": "execute_result"
    }
   ],
   "source": [
    "import random\n",
    "import string\n",
    "import json\n",
    "def randomString(stringLength=10):\n",
    "    \"\"\"Generate a random string of fixed length \"\"\"\n",
    "    letters = string.ascii_lowercase\n",
    "    return ''.join(random.choice(letters) for i in range(stringLength))\n",
    "\n",
    "bucket_name = \"demo-partiql-\" + randomString()\n",
    "bucket_name"
   ]
  },
  {
   "cell_type": "code",
   "execution_count": 14,
   "metadata": {},
   "outputs": [
    {
     "name": "stdout",
     "output_type": "stream",
     "text": [
      "make_bucket: demo-partiql-zutfcihjex\n"
     ]
    }
   ],
   "source": [
    "!aws s3 mb s3://$bucket_name"
   ]
  },
  {
   "cell_type": "code",
   "execution_count": 19,
   "metadata": {},
   "outputs": [
    {
     "name": "stdout",
     "output_type": "stream",
     "text": [
      "-rw-rw-r-- 1 ec2-user ec2-user 16M Feb  3 19:30 ./amazon-redshift-json-schema-induction/data/fhir/claims.json\n"
     ]
    }
   ],
   "source": [
    "!ls -alh ./amazon-redshift-json-schema-induction/data/fhir/claims.json"
   ]
  },
  {
   "cell_type": "code",
   "execution_count": 20,
   "metadata": {},
   "outputs": [
    {
     "name": "stdout",
     "output_type": "stream",
     "text": [
      "[{\"resourceType\": \"Claim\", \"id\": \"95644393-f809-4267-9cad-1189c7321e9f\", \"status\": \"active\", \"use\": \"complete\", \"patient\": {\"reference\": \"Patient/d3af67c9-0c02-45f2-bc91-fea45af3ee83\"}, \"billablePeriod\": {\"start\": \"2003-07-21T01:02:35+04:00\", \"end\": \"2003-07-21T01:32:35+04:00\"}, \"organization\": {\"reference\": \"Organization/ed410eaa-33e7-4b26-abb5-35416b9a6495\"}, \"diagnosis\": [{\"sequence\": 1, \"diagnosisReference\": {\"reference\": \"Condition/00558851-32c7-4457-833a-13fa0e484683\"}}], \"item\": [{\"sequence\": 1, \"encounter\": [{\"reference\": \"Encounter/a9d7304a-9c11-496c-8a92-2573aa4ce1a7\"}]}, {\"sequence\": 2, \"diagnosisLinkId\": [1]}], \"total\": {\"value\": 125.0, \"system\": \"urn:iso:std:iso:4217\", \"code\": \"USD\"}}, {\"resourceType\": \"Claim\", \"id\": \"c8f19946-23c8-4c53-8f7b-38841ee314da\", \"status\": \"active\", \"use\": \"complete\", \"patient\": {\"reference\": \"Patient/d3af67c9-0c02-45f2-bc91-fea45af3ee83\"}, \"billablePeriod\": {\"start\": \"2009-07-20T01:02:35+04:00\", \"end\": \"2009-07-20T01:32:35+04:00\"}, \"organization"
     ]
    }
   ],
   "source": [
    "# The claims json has no line breaks. We will show 1000 characters to not overwhelm the browser\n",
    "!head -c 1000 ./amazon-redshift-json-schema-induction/data/fhir/claims.json"
   ]
  },
  {
   "cell_type": "code",
   "execution_count": 21,
   "metadata": {},
   "outputs": [
    {
     "name": "stdout",
     "output_type": "stream",
     "text": [
      "upload: amazon-redshift-json-schema-induction/data/fhir/claims.json to s3://demo-partiql-zutfcihjex/fhir/claims/claims.json\n"
     ]
    }
   ],
   "source": [
    "!aws s3 cp ./amazon-redshift-json-schema-induction/data/fhir/claims.json s3://$bucket_name/fhir/claims/claims.json"
   ]
  },
  {
   "cell_type": "markdown",
   "metadata": {},
   "source": [
    "## Step 2:  Download the Schema Induction Tool and run it for the data above"
   ]
  },
  {
   "cell_type": "code",
   "execution_count": 22,
   "metadata": {},
   "outputs": [
    {
     "name": "stdout",
     "output_type": "stream",
     "text": [
      "-rw-rw-r-- 1 ec2-user ec2-user 310K Feb  3 19:33 original-schema-induction-1.0.0.jar\n",
      "-rw-rw-r-- 1 ec2-user ec2-user 154M Feb  3 19:33 schema-induction-1.0.0.jar\n"
     ]
    }
   ],
   "source": [
    "!ls -alh *.jar"
   ]
  },
  {
   "cell_type": "code",
   "execution_count": 23,
   "metadata": {},
   "outputs": [
    {
     "name": "stdout",
     "output_type": "stream",
     "text": [
      "Usage: \u001b[1m<main class>\u001b[21m\u001b[0m [\u001b[33m-ah\u001b[39m\u001b[0m] [\u001b[33m-c\u001b[39m\u001b[0m=\u001b[3m<s3>\u001b[23m\u001b[0m] [\u001b[33m-d\u001b[39m\u001b[0m=\u001b[3m<outDdlFile>\u001b[23m\u001b[0m] \u001b[33m-i\u001b[39m\u001b[0m=\u001b[3m<inputFile>\u001b[23m\u001b[0m\n",
      "\u001b[3m   \u001b[23m\u001b[0m  \u001b[33m  \u001b[39m\u001b[0m \u001b[3m           \u001b[23m\u001b[0m [\u001b[33m-l\u001b[39m\u001b[0m=\u001b[3m<tableLocation>\u001b[23m\u001b[0m] [\u001b[33m-r\u001b[39m\u001b[0m=\u001b[3m<region>\u001b[23m\u001b[0m] [\u001b[33m-root\u001b[39m\u001b[0m=\u001b[3m<rootDefinition>\u001b[23m\u001b[0m]\n",
      "\u001b[33m \u001b[39m\u001b[0m \u001b[3m                \u001b[23m\u001b[0m  [\u001b[33m-s\u001b[39m\u001b[0m=\u001b[3m<outSchemaFile>\u001b[23m\u001b[0m] [\u001b[33m--stats\u001b[39m\u001b[0m=\u001b[3m<outStatsFile>\u001b[23m\u001b[0m]\n",
      "\u001b[33m   \u001b[39m\u001b[0m \u001b[3m              \u001b[23m\u001b[0m  [\u001b[33m-t\u001b[39m\u001b[0m=\u001b[3m<tableName>\u001b[23m\u001b[0m]\n",
      "  \u001b[33m-a\u001b[39m\u001b[0m, \u001b[33m--array\u001b[39m\u001b[0m               is the document a json array\n",
      "  \u001b[33m-c\u001b[39m\u001b[0m, \u001b[33m--cred\u001b[39m\u001b[0m=\u001b[3m<s3>\u001b[23m\u001b[0m           which type of s3 credentials to use (ec2|profile)\n",
      "  \u001b[33m-d\u001b[39m\u001b[0m, \u001b[33m--ddl\u001b[39m\u001b[0m=\u001b[3m<outDdlFile>\u001b[23m\u001b[0m    An output ddl file for Redshift\n",
      "  \u001b[33m-h\u001b[39m\u001b[0m, \u001b[33m--help\u001b[39m\u001b[0m                display a help message\n",
      "\u001b[33m \u001b[39m\u001b[0m \u001b[33m-i\u001b[39m\u001b[0m, \u001b[33m--input\u001b[39m\u001b[0m=\u001b[3m<inputFile>\u001b[23m\u001b[0m   An input json file path.\n",
      "  \u001b[33m-l\u001b[39m\u001b[0m, \u001b[33m--location\u001b[39m\u001b[0m=\u001b[3m<tableLoca\u001b[23m\u001b[0m\u001b[3mtion>\u001b[23m\u001b[0m\n",
      "                            table location to use when creating DDL\n",
      "  \u001b[33m-r\u001b[39m\u001b[0m, \u001b[33m--region\u001b[39m\u001b[0m=\u001b[3m<region>\u001b[23m\u001b[0m     s3 region to use\n",
      "      \u001b[33m-root, --root\u001b[39m\u001b[0m=\u001b[3m<rootDe\u001b[23m\u001b[0m\u001b[3mfinition>\u001b[23m\u001b[0m\n",
      "                            s3 region to use\n",
      "  \u001b[33m-s\u001b[39m\u001b[0m, \u001b[33m--schema\u001b[39m\u001b[0m=\u001b[3m<outSchemaFi\u001b[23m\u001b[0m\u001b[3mle>\u001b[23m\u001b[0m\n",
      "                            An output schema file json file path\n",
      "      \u001b[33m--stats\u001b[39m\u001b[0m=\u001b[3m<outStatsFile\u001b[23m\u001b[0m\u001b[3m>\u001b[23m\u001b[0m\n",
      "                            An output stats file\n",
      "  \u001b[33m-t\u001b[39m\u001b[0m, \u001b[33m--table\u001b[39m\u001b[0m=\u001b[3m<tableName>\u001b[23m\u001b[0m   table name to use when creating DDL\n"
     ]
    }
   ],
   "source": [
    "!java -jar schema-induction-1.0.0.jar -h"
   ]
  },
  {
   "cell_type": "markdown",
   "metadata": {},
   "source": [
    "### Now lets run the tool "
   ]
  },
  {
   "cell_type": "code",
   "execution_count": 24,
   "metadata": {},
   "outputs": [],
   "source": [
    "%%bash -s $bucket_name --out output --err error\n",
    "\n",
    "java -jar schema-induction-1.0.0.jar \\\n",
    "-i s3://$1/fhir/claims/claims.json \\\n",
    "-d claims.ddl \\\n",
    "-t fhir.Claims \\\n",
    "-l s3://$1/fhir/claims \\\n",
    "-r \"us-east-2\"  \\\n",
    "-a \\\n",
    "-s claims.schema.json \\\n",
    "-root Claim"
   ]
  },
  {
   "cell_type": "code",
   "execution_count": 25,
   "metadata": {},
   "outputs": [
    {
     "name": "stdout",
     "output_type": "stream",
     "text": [
      "output: 0    [main] INFO  aws.json.schema.induction.Cli  – total number of unique paths: 45\n",
      "89   [main] WARN  com.networknt.schema.JsonMetaSchema  – Unknown keyword discriminator - you should define your own Meta Schema. If the keyword is irrelevant for validation, just use a NonValidationKeyword\n",
      " error: \n"
     ]
    }
   ],
   "source": [
    "print(\"output:\",output,\"error:\", error)"
   ]
  },
  {
   "cell_type": "code",
   "execution_count": 26,
   "metadata": {},
   "outputs": [
    {
     "name": "stdout",
     "output_type": "stream",
     "text": [
      "create external table fhir.Claims(\n",
      "\t\"resourceType\" varchar(6),\n",
      "\t\"id\" varchar(43),\n",
      "\t\"status\" varchar(7),\n",
      "\t\"use\" varchar(9),\n",
      "\t\"patient\" struct<\"reference\": varchar(52)>,\n",
      "\t\"billablePeriod\" struct<\"start\": varchar(30),\"end\": varchar(30)>,\n",
      "\t\"organization\" struct<\"reference\": varchar(58)>,\n",
      "\t\"diagnosis\" array<struct<\"sequence\": double precision,\"diagnosisReference\": struct<\"reference\": varchar(55)>>>,\n",
      "\t\"item\" array<struct<\"sequence\": double precision,\"encounter\": array<varchar(55)>,\"diagnosisLinkId\": array<double precision>,\"informationLinkId\": array<double precision>,\"net\": struct<\"value\": double precision,\"system\": varchar(24),\"code\": varchar(3)>,\"procedureLinkId\": array<double precision>>>,\n",
      "\t\"total\" struct<\"value\": double precision,\"system\": varchar(24),\"code\": varchar(3)>,\n",
      "\t\"information\" array<struct<\"sequence\": double precision,\"category\": struct<\"coding\": array<struct<\"system\": varchar(52),\"code\": varchar(4)>>>,\"valueReference\": struct<\"reference\": varchar(58)>>>,\n",
      "\t\"procedure\" array<struct<\"sequence\": double precision,\"procedureReference\": struct<\"reference\": varchar(55)>>>,\n",
      "\t\"prescription\" struct<\"reference\": varchar(64)>\n",
      ")\n",
      "row format serde 'org.openx.data.jsonserde.JsonSerDe'\n",
      "with serdeproperties ('dots.in.keys' = 'true','mapping.requesttime' = 'requesttimestamp','strip.outer.array' = 'true')\n",
      "location 's3://demo-partiql-zutfcihjex/fhir/claims'\n",
      ";\n"
     ]
    }
   ],
   "source": [
    "# Lets review the generated DDL\n",
    "!cat claims.ddl"
   ]
  },
  {
   "cell_type": "code",
   "execution_count": 27,
   "metadata": {},
   "outputs": [
    {
     "data": {
      "application/json": {
       "children": {
        "billablePeriod": {
         "children": {
          "end": {
           "class": {
            "description": "A date, date-time or partial date (e.g. just year or year + month).  If hours and minutes are specified, a time zone SHALL be populated. The format is a union of the schema types gYear, gYearMonth, date and dateTime. Seconds must be provided due to schema type constraints but may be zero-filled and may be ignored.                 Dates SHALL be valid dates.",
            "pattern": "^([0-9]([0-9]([0-9][1-9]|[1-9]0)|[1-9]00)|[1-9]000)(-(0[1-9]|1[0-2])(-(0[1-9]|[1-2][0-9]|3[0-1])(T([01][0-9]|2[0-3]):[0-5][0-9]:([0-5][0-9]|60)(\\.[0-9]+)?(Z|(\\+|-)((0[0-9]|1[0-3]):[0-5][0-9]|14:00)))?)?)?$",
            "type": "string"
           },
           "count": 17937,
           "description": "The end of the period. If the end of the period is missing, it means no end was known or planned at the time the instance was created. The start may be in the past, and the end date in the future, which means that period is expected/planned to end at that time.",
           "level": 3,
           "name": "end",
           "path": "$[].billablePeriod.end"
          },
          "start": {
           "class": {
            "description": "A date, date-time or partial date (e.g. just year or year + month).  If hours and minutes are specified, a time zone SHALL be populated. The format is a union of the schema types gYear, gYearMonth, date and dateTime. Seconds must be provided due to schema type constraints but may be zero-filled and may be ignored.                 Dates SHALL be valid dates.",
            "pattern": "^([0-9]([0-9]([0-9][1-9]|[1-9]0)|[1-9]00)|[1-9]000)(-(0[1-9]|1[0-2])(-(0[1-9]|[1-2][0-9]|3[0-1])(T([01][0-9]|2[0-3]):[0-5][0-9]:([0-5][0-9]|60)(\\.[0-9]+)?(Z|(\\+|-)((0[0-9]|1[0-3]):[0-5][0-9]|14:00)))?)?)?$",
            "type": "string"
           },
           "count": 17937,
           "description": "The start of the period. The boundary is inclusive.",
           "level": 3,
           "name": "start",
           "path": "$[].billablePeriod.start"
          }
         },
         "class": {
          "additionalProperties": false,
          "description": "A time period defined by a start and end date and optionally time.",
          "properties": {
           "_end": {
            "$ref": "#/definitions/Element",
            "description": "Extensions for end"
           },
           "_start": {
            "$ref": "#/definitions/Element",
            "description": "Extensions for start"
           },
           "end": {
            "$ref": "#/definitions/dateTime",
            "description": "The end of the period. If the end of the period is missing, it means no end was known or planned at the time the instance was created. The start may be in the past, and the end date in the future, which means that period is expected/planned to end at that time."
           },
           "extension": {
            "description": "May be used to represent additional information that is not part of the basic definition of the element. To make the use of extensions safe and manageable, there is a strict set of governance  applied to the definition and use of extensions. Though any implementer can define an extension, there is a set of requirements that SHALL be met as part of the definition of the extension.",
            "items": {
             "$ref": "#/definitions/Extension"
            },
            "type": "array"
           },
           "id": {
            "$ref": "#/definitions/string",
            "description": "Unique id for the element within a resource (for internal references). This may be any string value that does not contain spaces."
           },
           "start": {
            "$ref": "#/definitions/dateTime",
            "description": "The start of the period. The boundary is inclusive."
           }
          }
         },
         "count": 1,
         "description": "The period for which charges are being submitted.",
         "level": 2,
         "name": "billablePeriod",
         "path": "$[].billablePeriod"
        },
        "diagnosis": {
         "children": {
          "diagnosisReference": {
           "children": {
            "reference": {
             "class": {
              "description": "A sequence of Unicode characters",
              "pattern": "^[ \\r\\n\\t\\S]+$",
              "type": "string"
             },
             "count": 4142,
             "description": "A reference to a location at which the other resource is found. The reference may be a relative reference, in which case it is relative to the service base URL, or an absolute URL that resolves to the location where the resource is found. The reference may be version specific or not. If the reference is not to a FHIR RESTful server, then it should be assumed to be version specific. Internal fragment references (start with '#') refer to contained resources.",
             "level": 4,
             "name": "reference",
             "path": "$[].diagnosis[].diagnosisReference.reference"
            }
           },
           "class": {
            "additionalProperties": false,
            "description": "A reference from one resource to another.",
            "properties": {
             "_display": {
              "$ref": "#/definitions/Element",
              "description": "Extensions for display"
             },
             "_reference": {
              "$ref": "#/definitions/Element",
              "description": "Extensions for reference"
             },
             "_type": {
              "$ref": "#/definitions/Element",
              "description": "Extensions for type"
             },
             "display": {
              "$ref": "#/definitions/string",
              "description": "Plain text narrative that identifies the resource in addition to the resource reference."
             },
             "extension": {
              "description": "May be used to represent additional information that is not part of the basic definition of the element. To make the use of extensions safe and manageable, there is a strict set of governance  applied to the definition and use of extensions. Though any implementer can define an extension, there is a set of requirements that SHALL be met as part of the definition of the extension.",
              "items": {
               "$ref": "#/definitions/Extension"
              },
              "type": "array"
             },
             "id": {
              "$ref": "#/definitions/string",
              "description": "Unique id for the element within a resource (for internal references). This may be any string value that does not contain spaces."
             },
             "identifier": {
              "$ref": "#/definitions/Identifier",
              "description": "An identifier for the target resource. This is used when there is no way to reference the other resource directly, either because the entity it represents is not available through a FHIR server, or because there is no way for the author of the resource to convert a known identifier to an actual location. There is no requirement that a Reference.identifier point to something that is actually exposed as a FHIR instance, but it SHALL point to a business concept that would be expected to be exposed as a FHIR instance, and that instance would need to be of a FHIR resource type allowed by the reference."
             },
             "reference": {
              "$ref": "#/definitions/string",
              "description": "A reference to a location at which the other resource is found. The reference may be a relative reference, in which case it is relative to the service base URL, or an absolute URL that resolves to the location where the resource is found. The reference may be version specific or not. If the reference is not to a FHIR RESTful server, then it should be assumed to be version specific. Internal fragment references (start with '#') refer to contained resources."
             },
             "type": {
              "$ref": "#/definitions/uri",
              "description": "The expected type of the target of the reference. If both Reference.type and Reference.reference are populated and Reference.reference is a FHIR URL, both SHALL be consistent.\n\nThe type is the Canonical URL of Resource Definition that is the type this reference refers to. References are URLs that are relative to http://hl7.org/fhir/StructureDefinition/ e.g. \"Patient\" is a reference to http://hl7.org/fhir/StructureDefinition/Patient. Absolute URLs are only allowed for logical models (and can only be used in references in logical models, not resources)."
             }
            }
           },
           "count": 1,
           "description": "The nature of illness or problem in a coded form or as a reference to an external defined Condition.",
           "level": 3,
           "name": "diagnosisReference",
           "path": "$[].diagnosis[].diagnosisReference"
          },
          "sequence": {
           "class": {
            "description": "An integer with a value that is positive (e.g. >0)",
            "pattern": "^[1-9][0-9]*$",
            "type": "number"
           },
           "count": 4142,
           "description": "A number to uniquely identify diagnosis entries.",
           "level": 3,
           "name": "sequence",
           "path": "$[].diagnosis[].sequence"
          }
         },
         "class": {
          "additionalProperties": false,
          "description": "A provider issued list of professional services and products which have been provided, or are to be provided, to a patient which is sent to an insurer for reimbursement.",
          "properties": {
           "_sequence": {
            "$ref": "#/definitions/Element",
            "description": "Extensions for sequence"
           },
           "diagnosisCodeableConcept": {
            "$ref": "#/definitions/CodeableConcept",
            "description": "The nature of illness or problem in a coded form or as a reference to an external defined Condition."
           },
           "diagnosisReference": {
            "$ref": "#/definitions/Reference",
            "description": "The nature of illness or problem in a coded form or as a reference to an external defined Condition."
           },
           "extension": {
            "description": "May be used to represent additional information that is not part of the basic definition of the element. To make the use of extensions safe and manageable, there is a strict set of governance  applied to the definition and use of extensions. Though any implementer can define an extension, there is a set of requirements that SHALL be met as part of the definition of the extension.",
            "items": {
             "$ref": "#/definitions/Extension"
            },
            "type": "array"
           },
           "id": {
            "$ref": "#/definitions/string",
            "description": "Unique id for the element within a resource (for internal references). This may be any string value that does not contain spaces."
           },
           "modifierExtension": {
            "description": "May be used to represent additional information that is not part of the basic definition of the element and that modifies the understanding of the element in which it is contained and/or the understanding of the containing element's descendants. Usually modifier elements provide negation or qualification. To make the use of extensions safe and manageable, there is a strict set of governance applied to the definition and use of extensions. Though any implementer can define an extension, there is a set of requirements that SHALL be met as part of the definition of the extension. Applications processing a resource are required to check for modifier extensions.\n\nModifier extensions SHALL NOT change the meaning of any elements on Resource or DomainResource (including cannot change the meaning of modifierExtension itself).",
            "items": {
             "$ref": "#/definitions/Extension"
            },
            "type": "array"
           },
           "onAdmission": {
            "$ref": "#/definitions/CodeableConcept",
            "description": "Indication of whether the diagnosis was present on admission to a facility."
           },
           "packageCode": {
            "$ref": "#/definitions/CodeableConcept",
            "description": "A package billing code or bundle code used to group products and services to a particular health condition (such as heart attack) which is based on a predetermined grouping code system."
           },
           "sequence": {
            "$ref": "#/definitions/positiveInt",
            "description": "A number to uniquely identify diagnosis entries."
           },
           "type": {
            "description": "When the condition was observed or the relative ranking.",
            "items": {
             "$ref": "#/definitions/CodeableConcept"
            },
            "type": "array"
           }
          }
         },
         "count": 1,
         "description": "Information about diagnoses relevant to the claim items.",
         "level": 2,
         "name": "diagnosis",
         "path": "$[].diagnosis[]"
        },
        "id": {
         "class": {
          "description": "Any combination of letters, numerals, \"-\" and \".\", with a length limit of 64 characters.  (This might be an integer, an unprefixed OID, UUID or any other identifier pattern that meets these constraints.)  Ids are case-insensitive.",
          "pattern": "^[A-Za-z0-9\\-\\.]{1,64}$",
          "type": "string"
         },
         "count": 17937,
         "description": "The logical id of the resource, as used in the URL for the resource. Once assigned, this value never changes.",
         "level": 2,
         "name": "id",
         "path": "$[].id"
        },
        "information": {
         "children": [
          {
           "count": 6548,
           "level": 3,
           "name": "sequence",
           "path": "$[].information[].sequence"
          },
          {
           "children": [
            {
             "children": [
              {
               "count": 6548,
               "level": 5,
               "name": "system",
               "path": "$[].information[].category.coding[].system"
              },
              {
               "count": 6548,
               "level": 5,
               "name": "code",
               "path": "$[].information[].category.coding[].code"
              }
             ],
             "count": 1,
             "level": 4,
             "name": "coding",
             "path": "$[].information[].category.coding[]"
            }
           ],
           "count": 1,
           "level": 3,
           "name": "category",
           "path": "$[].information[].category"
          },
          {
           "children": [
            {
             "count": 6548,
             "level": 4,
             "name": "reference",
             "path": "$[].information[].valueReference.reference"
            }
           ],
           "count": 1,
           "level": 3,
           "name": "valueReference",
           "path": "$[].information[].valueReference"
          }
         ],
         "count": 1,
         "level": 2,
         "name": "information",
         "path": "$[].information[]"
        },
        "item": {
         "children": {
          "diagnosisLinkId": {
           "count": 4142,
           "level": 3,
           "name": "diagnosisLinkId",
           "path": "$[].item[].diagnosisLinkId[]"
          },
          "encounter": {
           "children": {
            "reference": {
             "class": {
              "description": "A sequence of Unicode characters",
              "pattern": "^[ \\r\\n\\t\\S]+$",
              "type": "string"
             },
             "count": 17937,
             "description": "A reference to a location at which the other resource is found. The reference may be a relative reference, in which case it is relative to the service base URL, or an absolute URL that resolves to the location where the resource is found. The reference may be version specific or not. If the reference is not to a FHIR RESTful server, then it should be assumed to be version specific. Internal fragment references (start with '#') refer to contained resources.",
             "level": 4,
             "name": "reference",
             "path": "$[].item[].encounter[].reference"
            }
           },
           "class": {
            "additionalProperties": false,
            "description": "A reference from one resource to another.",
            "properties": {
             "_display": {
              "$ref": "#/definitions/Element",
              "description": "Extensions for display"
             },
             "_reference": {
              "$ref": "#/definitions/Element",
              "description": "Extensions for reference"
             },
             "_type": {
              "$ref": "#/definitions/Element",
              "description": "Extensions for type"
             },
             "display": {
              "$ref": "#/definitions/string",
              "description": "Plain text narrative that identifies the resource in addition to the resource reference."
             },
             "extension": {
              "description": "May be used to represent additional information that is not part of the basic definition of the element. To make the use of extensions safe and manageable, there is a strict set of governance  applied to the definition and use of extensions. Though any implementer can define an extension, there is a set of requirements that SHALL be met as part of the definition of the extension.",
              "items": {
               "$ref": "#/definitions/Extension"
              },
              "type": "array"
             },
             "id": {
              "$ref": "#/definitions/string",
              "description": "Unique id for the element within a resource (for internal references). This may be any string value that does not contain spaces."
             },
             "identifier": {
              "$ref": "#/definitions/Identifier",
              "description": "An identifier for the target resource. This is used when there is no way to reference the other resource directly, either because the entity it represents is not available through a FHIR server, or because there is no way for the author of the resource to convert a known identifier to an actual location. There is no requirement that a Reference.identifier point to something that is actually exposed as a FHIR instance, but it SHALL point to a business concept that would be expected to be exposed as a FHIR instance, and that instance would need to be of a FHIR resource type allowed by the reference."
             },
             "reference": {
              "$ref": "#/definitions/string",
              "description": "A reference to a location at which the other resource is found. The reference may be a relative reference, in which case it is relative to the service base URL, or an absolute URL that resolves to the location where the resource is found. The reference may be version specific or not. If the reference is not to a FHIR RESTful server, then it should be assumed to be version specific. Internal fragment references (start with '#') refer to contained resources."
             },
             "type": {
              "$ref": "#/definitions/uri",
              "description": "The expected type of the target of the reference. If both Reference.type and Reference.reference are populated and Reference.reference is a FHIR URL, both SHALL be consistent.\n\nThe type is the Canonical URL of Resource Definition that is the type this reference refers to. References are URLs that are relative to http://hl7.org/fhir/StructureDefinition/ e.g. \"Patient\" is a reference to http://hl7.org/fhir/StructureDefinition/Patient. Absolute URLs are only allowed for logical models (and can only be used in references in logical models, not resources)."
             }
            }
           },
           "count": 1,
           "description": "The Encounters during which this Claim was created or to which the creation of this record is tightly associated.",
           "level": 3,
           "name": "encounter",
           "path": "$[].item[].encounter[]"
          },
          "informationLinkId": {
           "count": 6548,
           "level": 3,
           "name": "informationLinkId",
           "path": "$[].item[].informationLinkId[]"
          },
          "net": {
           "children": {
            "code": {
             "count": 20657,
             "level": 4,
             "name": "code",
             "path": "$[].item[].net.code"
            },
            "system": {
             "count": 20657,
             "level": 4,
             "name": "system",
             "path": "$[].item[].net.system"
            },
            "value": {
             "class": {
              "description": "A rational number with implicit precision",
              "pattern": "^-?(0|[1-9][0-9]*)(\\.[0-9]+)?([eE][+-]?[0-9]+)?$",
              "type": "number"
             },
             "count": 20657,
             "description": "Numerical value (with implicit precision).",
             "level": 4,
             "name": "value",
             "path": "$[].item[].net.value"
            }
           },
           "class": {
            "additionalProperties": false,
            "description": "An amount of economic utility in some recognized currency.",
            "properties": {
             "_currency": {
              "$ref": "#/definitions/Element",
              "description": "Extensions for currency"
             },
             "_value": {
              "$ref": "#/definitions/Element",
              "description": "Extensions for value"
             },
             "currency": {
              "$ref": "#/definitions/code",
              "description": "ISO 4217 Currency Code."
             },
             "extension": {
              "description": "May be used to represent additional information that is not part of the basic definition of the element. To make the use of extensions safe and manageable, there is a strict set of governance  applied to the definition and use of extensions. Though any implementer can define an extension, there is a set of requirements that SHALL be met as part of the definition of the extension.",
              "items": {
               "$ref": "#/definitions/Extension"
              },
              "type": "array"
             },
             "id": {
              "$ref": "#/definitions/string",
              "description": "Unique id for the element within a resource (for internal references). This may be any string value that does not contain spaces."
             },
             "value": {
              "$ref": "#/definitions/decimal",
              "description": "Numerical value (with implicit precision)."
             }
            }
           },
           "count": 1,
           "description": "The quantity times the unit price for an additional service or product or charge.",
           "level": 3,
           "name": "net",
           "path": "$[].item[].net"
          },
          "procedureLinkId": {
           "count": 14109,
           "level": 3,
           "name": "procedureLinkId",
           "path": "$[].item[].procedureLinkId[]"
          },
          "sequence": {
           "class": {
            "description": "An integer with a value that is positive (e.g. >0)",
            "pattern": "^[1-9][0-9]*$",
            "type": "number"
           },
           "count": 42736,
           "description": "A number to uniquely identify item entries.",
           "level": 3,
           "name": "sequence",
           "path": "$[].item[].sequence"
          }
         },
         "class": {
          "additionalProperties": false,
          "description": "A provider issued list of professional services and products which have been provided, or are to be provided, to a patient which is sent to an insurer for reimbursement.",
          "properties": {
           "_careTeamSequence": {
            "description": "Extensions for careTeamSequence",
            "items": {
             "$ref": "#/definitions/Element"
            },
            "type": "array"
           },
           "_diagnosisSequence": {
            "description": "Extensions for diagnosisSequence",
            "items": {
             "$ref": "#/definitions/Element"
            },
            "type": "array"
           },
           "_factor": {
            "$ref": "#/definitions/Element",
            "description": "Extensions for factor"
           },
           "_informationSequence": {
            "description": "Extensions for informationSequence",
            "items": {
             "$ref": "#/definitions/Element"
            },
            "type": "array"
           },
           "_procedureSequence": {
            "description": "Extensions for procedureSequence",
            "items": {
             "$ref": "#/definitions/Element"
            },
            "type": "array"
           },
           "_sequence": {
            "$ref": "#/definitions/Element",
            "description": "Extensions for sequence"
           },
           "_servicedDate": {
            "$ref": "#/definitions/Element",
            "description": "Extensions for servicedDate"
           },
           "bodySite": {
            "$ref": "#/definitions/CodeableConcept",
            "description": "Physical service site on the patient (limb, tooth, etc.)."
           },
           "careTeamSequence": {
            "description": "CareTeam members related to this service or product.",
            "items": {
             "$ref": "#/definitions/positiveInt"
            },
            "type": "array"
           },
           "category": {
            "$ref": "#/definitions/CodeableConcept",
            "description": "Code to identify the general type of benefits under which products and services are provided."
           },
           "detail": {
            "description": "A claim detail line. Either a simple (a product or service) or a 'group' of sub-details which are simple items.",
            "items": {
             "$ref": "#/definitions/Claim_Detail"
            },
            "type": "array"
           },
           "diagnosisSequence": {
            "description": "Diagnosis applicable for this service or product.",
            "items": {
             "$ref": "#/definitions/positiveInt"
            },
            "type": "array"
           },
           "encounter": {
            "description": "The Encounters during which this Claim was created or to which the creation of this record is tightly associated.",
            "items": {
             "$ref": "#/definitions/Reference"
            },
            "type": "array"
           },
           "extension": {
            "description": "May be used to represent additional information that is not part of the basic definition of the element. To make the use of extensions safe and manageable, there is a strict set of governance  applied to the definition and use of extensions. Though any implementer can define an extension, there is a set of requirements that SHALL be met as part of the definition of the extension.",
            "items": {
             "$ref": "#/definitions/Extension"
            },
            "type": "array"
           },
           "factor": {
            "$ref": "#/definitions/decimal",
            "description": "A real number that represents a multiplier used in determining the overall value of services delivered and/or goods received. The concept of a Factor allows for a discount or surcharge multiplier to be applied to a monetary amount."
           },
           "id": {
            "$ref": "#/definitions/string",
            "description": "Unique id for the element within a resource (for internal references). This may be any string value that does not contain spaces."
           },
           "informationSequence": {
            "description": "Exceptions, special conditions and supporting information applicable for this service or product.",
            "items": {
             "$ref": "#/definitions/positiveInt"
            },
            "type": "array"
           },
           "locationAddress": {
            "$ref": "#/definitions/Address",
            "description": "Where the product or service was provided."
           },
           "locationCodeableConcept": {
            "$ref": "#/definitions/CodeableConcept",
            "description": "Where the product or service was provided."
           },
           "locationReference": {
            "$ref": "#/definitions/Reference",
            "description": "Where the product or service was provided."
           },
           "modifier": {
            "description": "Item typification or modifiers codes to convey additional context for the product or service.",
            "items": {
             "$ref": "#/definitions/CodeableConcept"
            },
            "type": "array"
           },
           "modifierExtension": {
            "description": "May be used to represent additional information that is not part of the basic definition of the element and that modifies the understanding of the element in which it is contained and/or the understanding of the containing element's descendants. Usually modifier elements provide negation or qualification. To make the use of extensions safe and manageable, there is a strict set of governance applied to the definition and use of extensions. Though any implementer can define an extension, there is a set of requirements that SHALL be met as part of the definition of the extension. Applications processing a resource are required to check for modifier extensions.\n\nModifier extensions SHALL NOT change the meaning of any elements on Resource or DomainResource (including cannot change the meaning of modifierExtension itself).",
            "items": {
             "$ref": "#/definitions/Extension"
            },
            "type": "array"
           },
           "net": {
            "$ref": "#/definitions/Money",
            "description": "The quantity times the unit price for an additional service or product or charge."
           },
           "procedureSequence": {
            "description": "Procedures applicable for this service or product.",
            "items": {
             "$ref": "#/definitions/positiveInt"
            },
            "type": "array"
           },
           "productOrService": {
            "$ref": "#/definitions/CodeableConcept",
            "description": "When the value is a group code then this item collects a set of related claim details, otherwise this contains the product, service, drug or other billing code for the item."
           },
           "programCode": {
            "description": "Identifies the program under which this may be recovered.",
            "items": {
             "$ref": "#/definitions/CodeableConcept"
            },
            "type": "array"
           },
           "quantity": {
            "$ref": "#/definitions/Quantity",
            "description": "The number of repetitions of a service or product."
           },
           "revenue": {
            "$ref": "#/definitions/CodeableConcept",
            "description": "The type of revenue or cost center providing the product and/or service."
           },
           "sequence": {
            "$ref": "#/definitions/positiveInt",
            "description": "A number to uniquely identify item entries."
           },
           "servicedDate": {
            "description": "The date or dates when the service or product was supplied, performed or completed.",
            "pattern": "^([0-9]([0-9]([0-9][1-9]|[1-9]0)|[1-9]00)|[1-9]000)(-(0[1-9]|1[0-2])(-(0[1-9]|[1-2][0-9]|3[0-1]))?)?$",
            "type": "string"
           },
           "servicedPeriod": {
            "$ref": "#/definitions/Period",
            "description": "The date or dates when the service or product was supplied, performed or completed."
           },
           "subSite": {
            "description": "A region or surface of the bodySite, e.g. limb region or tooth surface(s).",
            "items": {
             "$ref": "#/definitions/CodeableConcept"
            },
            "type": "array"
           },
           "udi": {
            "description": "Unique Device Identifiers associated with this line item.",
            "items": {
             "$ref": "#/definitions/Reference"
            },
            "type": "array"
           },
           "unitPrice": {
            "$ref": "#/definitions/Money",
            "description": "If the item is not a group then this is the fee for the product or service, otherwise this is the total of the fees for the details of the group."
           }
          },
          "required": [
           "productOrService"
          ]
         },
         "count": 1,
         "description": "A claim line. Either a simple  product or service or a 'group' of details which can each be a simple items or groups of sub-details.",
         "level": 2,
         "name": "item",
         "path": "$[].item[]"
        },
        "organization": {
         "children": [
          {
           "count": 17937,
           "level": 3,
           "name": "reference",
           "path": "$[].organization.reference"
          }
         ],
         "count": 1,
         "level": 2,
         "name": "organization",
         "path": "$[].organization"
        },
        "patient": {
         "children": {
          "reference": {
           "class": {
            "description": "A sequence of Unicode characters",
            "pattern": "^[ \\r\\n\\t\\S]+$",
            "type": "string"
           },
           "count": 17937,
           "description": "A reference to a location at which the other resource is found. The reference may be a relative reference, in which case it is relative to the service base URL, or an absolute URL that resolves to the location where the resource is found. The reference may be version specific or not. If the reference is not to a FHIR RESTful server, then it should be assumed to be version specific. Internal fragment references (start with '#') refer to contained resources.",
           "level": 3,
           "name": "reference",
           "path": "$[].patient.reference"
          }
         },
         "class": {
          "additionalProperties": false,
          "description": "A reference from one resource to another.",
          "properties": {
           "_display": {
            "$ref": "#/definitions/Element",
            "description": "Extensions for display"
           },
           "_reference": {
            "$ref": "#/definitions/Element",
            "description": "Extensions for reference"
           },
           "_type": {
            "$ref": "#/definitions/Element",
            "description": "Extensions for type"
           },
           "display": {
            "$ref": "#/definitions/string",
            "description": "Plain text narrative that identifies the resource in addition to the resource reference."
           },
           "extension": {
            "description": "May be used to represent additional information that is not part of the basic definition of the element. To make the use of extensions safe and manageable, there is a strict set of governance  applied to the definition and use of extensions. Though any implementer can define an extension, there is a set of requirements that SHALL be met as part of the definition of the extension.",
            "items": {
             "$ref": "#/definitions/Extension"
            },
            "type": "array"
           },
           "id": {
            "$ref": "#/definitions/string",
            "description": "Unique id for the element within a resource (for internal references). This may be any string value that does not contain spaces."
           },
           "identifier": {
            "$ref": "#/definitions/Identifier",
            "description": "An identifier for the target resource. This is used when there is no way to reference the other resource directly, either because the entity it represents is not available through a FHIR server, or because there is no way for the author of the resource to convert a known identifier to an actual location. There is no requirement that a Reference.identifier point to something that is actually exposed as a FHIR instance, but it SHALL point to a business concept that would be expected to be exposed as a FHIR instance, and that instance would need to be of a FHIR resource type allowed by the reference."
           },
           "reference": {
            "$ref": "#/definitions/string",
            "description": "A reference to a location at which the other resource is found. The reference may be a relative reference, in which case it is relative to the service base URL, or an absolute URL that resolves to the location where the resource is found. The reference may be version specific or not. If the reference is not to a FHIR RESTful server, then it should be assumed to be version specific. Internal fragment references (start with '#') refer to contained resources."
           },
           "type": {
            "$ref": "#/definitions/uri",
            "description": "The expected type of the target of the reference. If both Reference.type and Reference.reference are populated and Reference.reference is a FHIR URL, both SHALL be consistent.\n\nThe type is the Canonical URL of Resource Definition that is the type this reference refers to. References are URLs that are relative to http://hl7.org/fhir/StructureDefinition/ e.g. \"Patient\" is a reference to http://hl7.org/fhir/StructureDefinition/Patient. Absolute URLs are only allowed for logical models (and can only be used in references in logical models, not resources)."
           }
          }
         },
         "count": 1,
         "description": "The party to whom the professional services and/or products have been supplied or are being considered and for whom actual or forecast reimbursement is sought.",
         "level": 2,
         "name": "patient",
         "path": "$[].patient"
        },
        "prescription": {
         "children": {
          "reference": {
           "class": {
            "description": "A sequence of Unicode characters",
            "pattern": "^[ \\r\\n\\t\\S]+$",
            "type": "string"
           },
           "count": 2553,
           "description": "A reference to a location at which the other resource is found. The reference may be a relative reference, in which case it is relative to the service base URL, or an absolute URL that resolves to the location where the resource is found. The reference may be version specific or not. If the reference is not to a FHIR RESTful server, then it should be assumed to be version specific. Internal fragment references (start with '#') refer to contained resources.",
           "level": 3,
           "name": "reference",
           "path": "$[].prescription.reference"
          }
         },
         "class": {
          "additionalProperties": false,
          "description": "A reference from one resource to another.",
          "properties": {
           "_display": {
            "$ref": "#/definitions/Element",
            "description": "Extensions for display"
           },
           "_reference": {
            "$ref": "#/definitions/Element",
            "description": "Extensions for reference"
           },
           "_type": {
            "$ref": "#/definitions/Element",
            "description": "Extensions for type"
           },
           "display": {
            "$ref": "#/definitions/string",
            "description": "Plain text narrative that identifies the resource in addition to the resource reference."
           },
           "extension": {
            "description": "May be used to represent additional information that is not part of the basic definition of the element. To make the use of extensions safe and manageable, there is a strict set of governance  applied to the definition and use of extensions. Though any implementer can define an extension, there is a set of requirements that SHALL be met as part of the definition of the extension.",
            "items": {
             "$ref": "#/definitions/Extension"
            },
            "type": "array"
           },
           "id": {
            "$ref": "#/definitions/string",
            "description": "Unique id for the element within a resource (for internal references). This may be any string value that does not contain spaces."
           },
           "identifier": {
            "$ref": "#/definitions/Identifier",
            "description": "An identifier for the target resource. This is used when there is no way to reference the other resource directly, either because the entity it represents is not available through a FHIR server, or because there is no way for the author of the resource to convert a known identifier to an actual location. There is no requirement that a Reference.identifier point to something that is actually exposed as a FHIR instance, but it SHALL point to a business concept that would be expected to be exposed as a FHIR instance, and that instance would need to be of a FHIR resource type allowed by the reference."
           },
           "reference": {
            "$ref": "#/definitions/string",
            "description": "A reference to a location at which the other resource is found. The reference may be a relative reference, in which case it is relative to the service base URL, or an absolute URL that resolves to the location where the resource is found. The reference may be version specific or not. If the reference is not to a FHIR RESTful server, then it should be assumed to be version specific. Internal fragment references (start with '#') refer to contained resources."
           },
           "type": {
            "$ref": "#/definitions/uri",
            "description": "The expected type of the target of the reference. If both Reference.type and Reference.reference are populated and Reference.reference is a FHIR URL, both SHALL be consistent.\n\nThe type is the Canonical URL of Resource Definition that is the type this reference refers to. References are URLs that are relative to http://hl7.org/fhir/StructureDefinition/ e.g. \"Patient\" is a reference to http://hl7.org/fhir/StructureDefinition/Patient. Absolute URLs are only allowed for logical models (and can only be used in references in logical models, not resources)."
           }
          }
         },
         "count": 1,
         "description": "Prescription to support the dispensing of pharmacy, device or vision products.",
         "level": 2,
         "name": "prescription",
         "path": "$[].prescription"
        },
        "procedure": {
         "children": {
          "procedureReference": {
           "children": {
            "reference": {
             "class": {
              "description": "A sequence of Unicode characters",
              "pattern": "^[ \\r\\n\\t\\S]+$",
              "type": "string"
             },
             "count": 14109,
             "description": "A reference to a location at which the other resource is found. The reference may be a relative reference, in which case it is relative to the service base URL, or an absolute URL that resolves to the location where the resource is found. The reference may be version specific or not. If the reference is not to a FHIR RESTful server, then it should be assumed to be version specific. Internal fragment references (start with '#') refer to contained resources.",
             "level": 4,
             "name": "reference",
             "path": "$[].procedure[].procedureReference.reference"
            }
           },
           "class": {
            "additionalProperties": false,
            "description": "A reference from one resource to another.",
            "properties": {
             "_display": {
              "$ref": "#/definitions/Element",
              "description": "Extensions for display"
             },
             "_reference": {
              "$ref": "#/definitions/Element",
              "description": "Extensions for reference"
             },
             "_type": {
              "$ref": "#/definitions/Element",
              "description": "Extensions for type"
             },
             "display": {
              "$ref": "#/definitions/string",
              "description": "Plain text narrative that identifies the resource in addition to the resource reference."
             },
             "extension": {
              "description": "May be used to represent additional information that is not part of the basic definition of the element. To make the use of extensions safe and manageable, there is a strict set of governance  applied to the definition and use of extensions. Though any implementer can define an extension, there is a set of requirements that SHALL be met as part of the definition of the extension.",
              "items": {
               "$ref": "#/definitions/Extension"
              },
              "type": "array"
             },
             "id": {
              "$ref": "#/definitions/string",
              "description": "Unique id for the element within a resource (for internal references). This may be any string value that does not contain spaces."
             },
             "identifier": {
              "$ref": "#/definitions/Identifier",
              "description": "An identifier for the target resource. This is used when there is no way to reference the other resource directly, either because the entity it represents is not available through a FHIR server, or because there is no way for the author of the resource to convert a known identifier to an actual location. There is no requirement that a Reference.identifier point to something that is actually exposed as a FHIR instance, but it SHALL point to a business concept that would be expected to be exposed as a FHIR instance, and that instance would need to be of a FHIR resource type allowed by the reference."
             },
             "reference": {
              "$ref": "#/definitions/string",
              "description": "A reference to a location at which the other resource is found. The reference may be a relative reference, in which case it is relative to the service base URL, or an absolute URL that resolves to the location where the resource is found. The reference may be version specific or not. If the reference is not to a FHIR RESTful server, then it should be assumed to be version specific. Internal fragment references (start with '#') refer to contained resources."
             },
             "type": {
              "$ref": "#/definitions/uri",
              "description": "The expected type of the target of the reference. If both Reference.type and Reference.reference are populated and Reference.reference is a FHIR URL, both SHALL be consistent.\n\nThe type is the Canonical URL of Resource Definition that is the type this reference refers to. References are URLs that are relative to http://hl7.org/fhir/StructureDefinition/ e.g. \"Patient\" is a reference to http://hl7.org/fhir/StructureDefinition/Patient. Absolute URLs are only allowed for logical models (and can only be used in references in logical models, not resources)."
             }
            }
           },
           "count": 1,
           "description": "The code or reference to a Procedure resource which identifies the clinical intervention performed.",
           "level": 3,
           "name": "procedureReference",
           "path": "$[].procedure[].procedureReference"
          },
          "sequence": {
           "class": {
            "description": "An integer with a value that is positive (e.g. >0)",
            "pattern": "^[1-9][0-9]*$",
            "type": "number"
           },
           "count": 14109,
           "description": "A number to uniquely identify procedure entries.",
           "level": 3,
           "name": "sequence",
           "path": "$[].procedure[].sequence"
          }
         },
         "class": {
          "additionalProperties": false,
          "description": "A provider issued list of professional services and products which have been provided, or are to be provided, to a patient which is sent to an insurer for reimbursement.",
          "properties": {
           "_date": {
            "$ref": "#/definitions/Element",
            "description": "Extensions for date"
           },
           "_sequence": {
            "$ref": "#/definitions/Element",
            "description": "Extensions for sequence"
           },
           "date": {
            "$ref": "#/definitions/dateTime",
            "description": "Date and optionally time the procedure was performed."
           },
           "extension": {
            "description": "May be used to represent additional information that is not part of the basic definition of the element. To make the use of extensions safe and manageable, there is a strict set of governance  applied to the definition and use of extensions. Though any implementer can define an extension, there is a set of requirements that SHALL be met as part of the definition of the extension.",
            "items": {
             "$ref": "#/definitions/Extension"
            },
            "type": "array"
           },
           "id": {
            "$ref": "#/definitions/string",
            "description": "Unique id for the element within a resource (for internal references). This may be any string value that does not contain spaces."
           },
           "modifierExtension": {
            "description": "May be used to represent additional information that is not part of the basic definition of the element and that modifies the understanding of the element in which it is contained and/or the understanding of the containing element's descendants. Usually modifier elements provide negation or qualification. To make the use of extensions safe and manageable, there is a strict set of governance applied to the definition and use of extensions. Though any implementer can define an extension, there is a set of requirements that SHALL be met as part of the definition of the extension. Applications processing a resource are required to check for modifier extensions.\n\nModifier extensions SHALL NOT change the meaning of any elements on Resource or DomainResource (including cannot change the meaning of modifierExtension itself).",
            "items": {
             "$ref": "#/definitions/Extension"
            },
            "type": "array"
           },
           "procedureCodeableConcept": {
            "$ref": "#/definitions/CodeableConcept",
            "description": "The code or reference to a Procedure resource which identifies the clinical intervention performed."
           },
           "procedureReference": {
            "$ref": "#/definitions/Reference",
            "description": "The code or reference to a Procedure resource which identifies the clinical intervention performed."
           },
           "sequence": {
            "$ref": "#/definitions/positiveInt",
            "description": "A number to uniquely identify procedure entries."
           },
           "type": {
            "description": "When the condition was observed or the relative ranking.",
            "items": {
             "$ref": "#/definitions/CodeableConcept"
            },
            "type": "array"
           },
           "udi": {
            "description": "Unique Device Identifiers associated with this line item.",
            "items": {
             "$ref": "#/definitions/Reference"
            },
            "type": "array"
           }
          }
         },
         "count": 1,
         "description": "Procedures performed on the patient relevant to the billing items with the claim.",
         "level": 2,
         "name": "procedure",
         "path": "$[].procedure[]"
        },
        "status": {
         "class": {
          "description": "A string which has at least one character and no leading or trailing whitespace and where there is no whitespace other than single spaces in the contents",
          "pattern": "^[^\\s]+(\\s[^\\s]+)*$",
          "type": "string"
         },
         "count": 17937,
         "description": "The status of the resource instance.",
         "level": 2,
         "name": "status",
         "path": "$[].status"
        },
        "total": {
         "children": {
          "code": {
           "count": 17937,
           "level": 3,
           "name": "code",
           "path": "$[].total.code"
          },
          "system": {
           "count": 17937,
           "level": 3,
           "name": "system",
           "path": "$[].total.system"
          },
          "value": {
           "class": {
            "description": "A rational number with implicit precision",
            "pattern": "^-?(0|[1-9][0-9]*)(\\.[0-9]+)?([eE][+-]?[0-9]+)?$",
            "type": "number"
           },
           "count": 17937,
           "description": "Numerical value (with implicit precision).",
           "level": 3,
           "name": "value",
           "path": "$[].total.value"
          }
         },
         "class": {
          "additionalProperties": false,
          "description": "An amount of economic utility in some recognized currency.",
          "properties": {
           "_currency": {
            "$ref": "#/definitions/Element",
            "description": "Extensions for currency"
           },
           "_value": {
            "$ref": "#/definitions/Element",
            "description": "Extensions for value"
           },
           "currency": {
            "$ref": "#/definitions/code",
            "description": "ISO 4217 Currency Code."
           },
           "extension": {
            "description": "May be used to represent additional information that is not part of the basic definition of the element. To make the use of extensions safe and manageable, there is a strict set of governance  applied to the definition and use of extensions. Though any implementer can define an extension, there is a set of requirements that SHALL be met as part of the definition of the extension.",
            "items": {
             "$ref": "#/definitions/Extension"
            },
            "type": "array"
           },
           "id": {
            "$ref": "#/definitions/string",
            "description": "Unique id for the element within a resource (for internal references). This may be any string value that does not contain spaces."
           },
           "value": {
            "$ref": "#/definitions/decimal",
            "description": "Numerical value (with implicit precision)."
           }
          }
         },
         "count": 1,
         "description": "The total value of the all the items in the claim.",
         "level": 2,
         "name": "total",
         "path": "$[].total"
        }
       },
       "class": {
        "additionalProperties": false,
        "description": "A provider issued list of professional services and products which have been provided, or are to be provided, to a patient which is sent to an insurer for reimbursement.",
        "properties": {
         "_created": {
          "$ref": "#/definitions/Element",
          "description": "Extensions for created"
         },
         "_implicitRules": {
          "$ref": "#/definitions/Element",
          "description": "Extensions for implicitRules"
         },
         "_language": {
          "$ref": "#/definitions/Element",
          "description": "Extensions for language"
         },
         "_status": {
          "$ref": "#/definitions/Element",
          "description": "Extensions for status"
         },
         "_use": {
          "$ref": "#/definitions/Element",
          "description": "Extensions for use"
         },
         "accident": {
          "$ref": "#/definitions/Claim_Accident",
          "description": "Details of an accident which resulted in injuries which required the products and services listed in the claim."
         },
         "billablePeriod": {
          "$ref": "#/definitions/Period",
          "description": "The period for which charges are being submitted."
         },
         "careTeam": {
          "description": "The members of the team who provided the products and services.",
          "items": {
           "$ref": "#/definitions/Claim_CareTeam"
          },
          "type": "array"
         },
         "contained": {
          "description": "These resources do not have an independent existence apart from the resource that contains them - they cannot be identified independently, and nor can they have their own independent transaction scope.",
          "items": {
           "$ref": "#/definitions/ResourceList"
          },
          "type": "array"
         },
         "created": {
          "$ref": "#/definitions/dateTime",
          "description": "The date this resource was created."
         },
         "diagnosis": {
          "description": "Information about diagnoses relevant to the claim items.",
          "items": {
           "$ref": "#/definitions/Claim_Diagnosis"
          },
          "type": "array"
         },
         "enterer": {
          "$ref": "#/definitions/Reference",
          "description": "Individual who created the claim, predetermination or preauthorization."
         },
         "extension": {
          "description": "May be used to represent additional information that is not part of the basic definition of the resource. To make the use of extensions safe and manageable, there is a strict set of governance  applied to the definition and use of extensions. Though any implementer can define an extension, there is a set of requirements that SHALL be met as part of the definition of the extension.",
          "items": {
           "$ref": "#/definitions/Extension"
          },
          "type": "array"
         },
         "facility": {
          "$ref": "#/definitions/Reference",
          "description": "Facility where the services were provided."
         },
         "fundsReserve": {
          "$ref": "#/definitions/CodeableConcept",
          "description": "A code to indicate whether and for whom funds are to be reserved for future claims."
         },
         "id": {
          "$ref": "#/definitions/id",
          "description": "The logical id of the resource, as used in the URL for the resource. Once assigned, this value never changes."
         },
         "identifier": {
          "description": "A unique identifier assigned to this claim.",
          "items": {
           "$ref": "#/definitions/Identifier"
          },
          "type": "array"
         },
         "implicitRules": {
          "$ref": "#/definitions/uri",
          "description": "A reference to a set of rules that were followed when the resource was constructed, and which must be understood when processing the content. Often, this is a reference to an implementation guide that defines the special rules along with other profiles etc."
         },
         "insurance": {
          "description": "Financial instruments for reimbursement for the health care products and services specified on the claim.",
          "items": {
           "$ref": "#/definitions/Claim_Insurance"
          },
          "type": "array"
         },
         "insurer": {
          "$ref": "#/definitions/Reference",
          "description": "The Insurer who is target of the request."
         },
         "item": {
          "description": "A claim line. Either a simple  product or service or a 'group' of details which can each be a simple items or groups of sub-details.",
          "items": {
           "$ref": "#/definitions/Claim_Item"
          },
          "type": "array"
         },
         "language": {
          "$ref": "#/definitions/code",
          "description": "The base language in which the resource is written."
         },
         "meta": {
          "$ref": "#/definitions/Meta",
          "description": "The metadata about the resource. This is content that is maintained by the infrastructure. Changes to the content might not always be associated with version changes to the resource."
         },
         "modifierExtension": {
          "description": "May be used to represent additional information that is not part of the basic definition of the resource and that modifies the understanding of the element that contains it and/or the understanding of the containing element's descendants. Usually modifier elements provide negation or qualification. To make the use of extensions safe and manageable, there is a strict set of governance applied to the definition and use of extensions. Though any implementer is allowed to define an extension, there is a set of requirements that SHALL be met as part of the definition of the extension. Applications processing a resource are required to check for modifier extensions.\n\nModifier extensions SHALL NOT change the meaning of any elements on Resource or DomainResource (including cannot change the meaning of modifierExtension itself).",
          "items": {
           "$ref": "#/definitions/Extension"
          },
          "type": "array"
         },
         "originalPrescription": {
          "$ref": "#/definitions/Reference",
          "description": "Original prescription which has been superseded by this prescription to support the dispensing of pharmacy services, medications or products."
         },
         "patient": {
          "$ref": "#/definitions/Reference",
          "description": "The party to whom the professional services and/or products have been supplied or are being considered and for whom actual or forecast reimbursement is sought."
         },
         "payee": {
          "$ref": "#/definitions/Claim_Payee",
          "description": "The party to be reimbursed for cost of the products and services according to the terms of the policy."
         },
         "prescription": {
          "$ref": "#/definitions/Reference",
          "description": "Prescription to support the dispensing of pharmacy, device or vision products."
         },
         "priority": {
          "$ref": "#/definitions/CodeableConcept",
          "description": "The provider-required urgency of processing the request. Typical values include: stat, routine deferred."
         },
         "procedure": {
          "description": "Procedures performed on the patient relevant to the billing items with the claim.",
          "items": {
           "$ref": "#/definitions/Claim_Procedure"
          },
          "type": "array"
         },
         "provider": {
          "$ref": "#/definitions/Reference",
          "description": "The provider which is responsible for the claim, predetermination or preauthorization."
         },
         "referral": {
          "$ref": "#/definitions/Reference",
          "description": "A reference to a referral resource."
         },
         "related": {
          "description": "Other claims which are related to this claim such as prior submissions or claims for related services or for the same event.",
          "items": {
           "$ref": "#/definitions/Claim_Related"
          },
          "type": "array"
         },
         "resourceType": {
          "const": "Claim",
          "description": "This is a Claim resource"
         },
         "status": {
          "$ref": "#/definitions/code",
          "description": "The status of the resource instance."
         },
         "subType": {
          "$ref": "#/definitions/CodeableConcept",
          "description": "A finer grained suite of claim type codes which may convey additional information such as Inpatient vs Outpatient and/or a specialty service."
         },
         "supportingInfo": {
          "description": "Additional information codes regarding exceptions, special considerations, the condition, situation, prior or concurrent issues.",
          "items": {
           "$ref": "#/definitions/Claim_SupportingInfo"
          },
          "type": "array"
         },
         "text": {
          "$ref": "#/definitions/Narrative",
          "description": "A human-readable narrative that contains a summary of the resource and can be used to represent the content of the resource to a human. The narrative need not encode all the structured data, but is required to contain sufficient detail to make it \"clinically safe\" for a human to just read the narrative. Resource definitions may define what content should be represented in the narrative to ensure clinical safety."
         },
         "total": {
          "$ref": "#/definitions/Money",
          "description": "The total value of the all the items in the claim."
         },
         "type": {
          "$ref": "#/definitions/CodeableConcept",
          "description": "The category of claim, e.g. oral, pharmacy, vision, institutional, professional."
         },
         "use": {
          "description": "A code to indicate whether the nature of the request is: to request adjudication of products and services previously rendered; or requesting authorization and adjudication for provision in the future; or requesting the non-binding adjudication of the listed products and services which could be provided in the future.",
          "enum": [
           "claim",
           "preauthorization",
           "predetermination"
          ]
         }
        },
        "required": [
         "insurance",
         "provider",
         "patient",
         "type",
         "priority",
         "resourceType"
        ]
       },
       "count": 1,
       "description": "A provider issued list of professional services and products which have been provided, or are to be provided, to a patient which is sent to an insurer for reimbursement.",
       "level": 1,
       "name": "Claim",
       "path": "$[]"
      },
      "text/plain": [
       "<IPython.core.display.JSON object>"
      ]
     },
     "execution_count": 27,
     "metadata": {
      "application/json": {
       "expanded": false
      }
     },
     "output_type": "execute_result"
    }
   ],
   "source": [
    "# Lets display the induced schema for Claims\n",
    "from IPython.display import JSON\n",
    "schema = json.load(open('claims.schema.json'))\n",
    "JSON(schema)"
   ]
  },
  {
   "cell_type": "code",
   "execution_count": null,
   "metadata": {},
   "outputs": [],
   "source": []
  }
 ],
 "metadata": {
  "kernelspec": {
   "display_name": "conda_python3",
   "language": "python",
   "name": "conda_python3"
  },
  "language_info": {
   "codemirror_mode": {
    "name": "ipython",
    "version": 3
   },
   "file_extension": ".py",
   "mimetype": "text/x-python",
   "name": "python",
   "nbconvert_exporter": "python",
   "pygments_lexer": "ipython3",
   "version": "3.6.5"
  }
 },
 "nbformat": 4,
 "nbformat_minor": 4
}
